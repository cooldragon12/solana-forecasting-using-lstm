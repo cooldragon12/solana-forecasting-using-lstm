{
 "cells": [
  {
   "cell_type": "markdown",
   "metadata": {},
   "source": [
    "# Multivariate Solana Price Forecasting using LSTM"
   ]
  },
  {
   "cell_type": "code",
   "execution_count": 1,
   "metadata": {},
   "outputs": [],
   "source": [
    "import pytorch_lightning as pl\n",
    "from pytorch_lightning.callbacks import ModelCheckpoint, EarlyStopping\n",
    "import torch\n",
    "import torch.nn as nn\n",
    "from torch.utils.data import DataLoader\n",
    "\n",
    "import numpy as np\n",
    "\n",
    "import matplotlib.pyplot as plt\n",
    "import seaborn as sns"
   ]
  },
  {
   "cell_type": "markdown",
   "metadata": {},
   "source": [
    "## Defining Pytorch Dataset and Dataloader for Multivariate Time Series Forecasting"
   ]
  },
  {
   "cell_type": "markdown",
   "metadata": {},
   "source": [
    "### Create Pytorch Dataset"
   ]
  },
  {
   "cell_type": "code",
   "execution_count": 2,
   "metadata": {},
   "outputs": [],
   "source": [
    "class SolanaDataset(torch.utils.data.Dataset):\n",
    "    def __init__(self, sequences):\n",
    "        self.sequences = sequences\n",
    "    \n",
    "    def __len__(self):\n",
    "        return len(self.sequences)\n",
    "    \n",
    "    def __getitem__(self, idx):\n",
    "        seq, label = self.sequences[idx]\n",
    "\n",
    "        return dict(\n",
    "            sequence=torch.Tensor(seq.to_numpy()),\n",
    "            label=torch.tensor(label).float()\n",
    "        )"
   ]
  },
  {
   "cell_type": "markdown",
   "metadata": {},
   "source": [
    "### Create Data Module"
   ]
  },
  {
   "cell_type": "code",
   "execution_count": 3,
   "metadata": {},
   "outputs": [],
   "source": [
    "class SolanaDataModule(pl.LightningDataModule):\n",
    "    def __init__(self, train_sequences, test_sequences, batch_size=32):\n",
    "        super().__init__()\n",
    "        self.train_sequences = train_sequences\n",
    "        self.val_sequences = test_sequences\n",
    "        self.test_sequences = test_sequences\n",
    "        self.batch_size = batch_size\n",
    "    \n",
    "    def setup(self, stage=None):\n",
    "        self.train = SolanaDataset(self.train_sequences)\n",
    "        self.val = SolanaDataset(self.val_sequences)\n",
    "        self.test = SolanaDataset(self.test_sequences)\n",
    "    \n",
    "    def train_dataloader(self):\n",
    "        return DataLoader(self.train, batch_size=self.batch_size, shuffle=False, num_workers=0)\n",
    "    \n",
    "    def test_dataloader(self):\n",
    "        return DataLoader(self.test, batch_size=1, shuffle=False, num_workers=0)\n",
    "    \n",
    "    def val_dataloader(self):\n",
    "        return DataLoader(self.val, batch_size=1, shuffle=False, num_workers=0)\n"
   ]
  },
  {
   "cell_type": "markdown",
   "metadata": {},
   "source": [
    "## Getting the Data"
   ]
  },
  {
   "cell_type": "code",
   "execution_count": 4,
   "metadata": {},
   "outputs": [],
   "source": [
    "import pickle\n",
    "\n",
    "with open('savedpoints/train_sequences.pkl', 'rb') as f:\n",
    "    train_sequences = pickle.load(f)\n",
    "\n",
    "with open('savedpoints/test_sequences.pkl', 'rb') as f:\n",
    "    test_sequences = pickle.load(f)\n",
    "\n"
   ]
  },
  {
   "cell_type": "markdown",
   "metadata": {},
   "source": [
    "### Load the Data"
   ]
  },
  {
   "cell_type": "code",
   "execution_count": 5,
   "metadata": {},
   "outputs": [],
   "source": [
    "dm = SolanaDataModule(train_sequences=train_sequences, test_sequences=test_sequences, batch_size=32)\n",
    "dm.setup()"
   ]
  },
  {
   "cell_type": "markdown",
   "metadata": {},
   "source": [
    "## Creating the LSTM Model"
   ]
  },
  {
   "cell_type": "code",
   "execution_count": 6,
   "metadata": {},
   "outputs": [],
   "source": [
    "class SolanaLSTMModel(nn.Module):\n",
    "    #LSTM model for Forecasting \n",
    "    def __init__(self, input_size, hidden_size, num_layers):\n",
    "        super(SolanaLSTMModel, self).__init__()\n",
    "        self.hidden_size = hidden_size\n",
    "        self.num_layers = num_layers\n",
    "        self.lstm = nn.LSTM(input_size, hidden_size, num_layers, batch_first=True, dropout=0.3)\n",
    "        self.fc = nn.Linear(hidden_size, 1)\n",
    "    \n",
    "    def forward(self, x):\n",
    "        self.lstm.flatten_parameters()\n",
    "        _, (hidden, _)= self.lstm(x)\n",
    "        out = self.fc(hidden[-1])\n",
    "        return out"
   ]
  },
  {
   "cell_type": "code",
   "execution_count": 7,
   "metadata": {},
   "outputs": [],
   "source": [
    "class SolanaPricePredictor(pl.LightningModule):\n",
    "    def __init__(self, n_features:int, hidden_size:int, num_layers:int):\n",
    "        super().__init__()\n",
    "        self.model = SolanaLSTMModel(input_size=n_features, hidden_size=hidden_size, num_layers=num_layers)\n",
    "        self.loss = nn.MSELoss(reduction='mean')\n",
    "    \n",
    "    def forward(self, x, labels=None):\n",
    "        output = self.model(x)\n",
    "        loss = 0\n",
    "        \n",
    "        if labels is not None:\n",
    "            loss = self.loss(output, labels)\n",
    "        \n",
    "        return loss, output\n",
    "    \n",
    "    def training_step(self, batch, batch_idx):\n",
    "        sequences = batch['sequence']\n",
    "        labels = batch['label'][0]\n",
    "\n",
    "        loss, outputs = self(sequences, labels)\n",
    "        self.log('train_loss', loss, prog_bar=True, logger=True)\n",
    "        return loss\n",
    "    \n",
    "    def validation_step(self, batch, batch_idx):\n",
    "        sequences = batch['sequence']\n",
    "        labels = batch['label'][0]\n",
    "\n",
    "        loss, outputs = self(sequences, labels)\n",
    "        self.log('val_loss', loss, prog_bar=True, logger=True)\n",
    "        return loss\n",
    "    \n",
    "    def test_step(self, batch, batch_idx):\n",
    "        sequences = batch['sequence']\n",
    "        labels = batch['label'][0]\n",
    "\n",
    "        loss, outputs = self(sequences, labels)\n",
    "        self.log('test_loss', loss, prog_bar=True, logger=True)\n",
    "        return loss\n",
    "    \n",
    "    def configure_optimizers(self):\n",
    "        optimizer = torch.optim.Adam(self.parameters(), lr=1e-3)\n",
    "        return optimizer    \n"
   ]
  },
  {
   "cell_type": "code",
   "execution_count": 8,
   "metadata": {},
   "outputs": [],
   "source": [
    "model = SolanaPricePredictor(n_features=12, hidden_size=64, num_layers=2)"
   ]
  },
  {
   "cell_type": "markdown",
   "metadata": {},
   "source": [
    "## Preparing the Callbacks"
   ]
  },
  {
   "cell_type": "markdown",
   "metadata": {},
   "source": [
    "#### Setup Tensorboard"
   ]
  },
  {
   "cell_type": "code",
   "execution_count": 9,
   "metadata": {},
   "outputs": [
    {
     "data": {
      "text/plain": [
       "Reusing TensorBoard on port 6006 (pid 8464), started 1 day, 1:17:30 ago. (Use '!kill 8464' to kill it.)"
      ]
     },
     "metadata": {},
     "output_type": "display_data"
    },
    {
     "data": {
      "text/html": [
       "\n",
       "      <iframe id=\"tensorboard-frame-13edc6914f06e605\" width=\"100%\" height=\"800\" frameborder=\"0\">\n",
       "      </iframe>\n",
       "      <script>\n",
       "        (function() {\n",
       "          const frame = document.getElementById(\"tensorboard-frame-13edc6914f06e605\");\n",
       "          const url = new URL(\"http://localhost\");\n",
       "          const port = 6006;\n",
       "          if (port) {\n",
       "            url.port = port;\n",
       "          }\n",
       "          frame.src = url;\n",
       "        })();\n",
       "      </script>\n",
       "    "
      ],
      "text/plain": [
       "<IPython.core.display.HTML object>"
      ]
     },
     "metadata": {},
     "output_type": "display_data"
    }
   ],
   "source": [
    "%load_ext tensorboard\n",
    "%tensorboard --logdir lightning_logs/"
   ]
  },
  {
   "cell_type": "markdown",
   "metadata": {},
   "source": [
    "#### Callbacks"
   ]
  },
  {
   "cell_type": "code",
   "execution_count": 10,
   "metadata": {},
   "outputs": [],
   "source": [
    "from pytorch_lightning.loggers import TensorBoardLogger"
   ]
  },
  {
   "cell_type": "code",
   "execution_count": 12,
   "metadata": {},
   "outputs": [
    {
     "name": "stderr",
     "output_type": "stream",
     "text": [
      "GPU available: False, used: False\n",
      "TPU available: False, using: 0 TPU cores\n",
      "IPU available: False, using: 0 IPUs\n",
      "HPU available: False, using: 0 HPUs\n"
     ]
    }
   ],
   "source": [
    "checkpoint_callback = ModelCheckpoint(\n",
    "    dirpath='checkpoints',\n",
    "    filename='solana-lstm-{epoch:02d}-{val_loss:.2f}-{v_num:d}',\n",
    "    save_top_k=1,\n",
    "    verbose=True,\n",
    "    monitor='val_loss',\n",
    "    mode='min'\n",
    ")\n",
    "\n",
    "logger = TensorBoardLogger(\"lightning_logs\", name=\"solana-lstm-price\")\n",
    "\n",
    "early_stopping = EarlyStopping('val_loss', patience=10)\n",
    "\n",
    "\n",
    "trainer = pl.Trainer(\n",
    "    logger=logger,\n",
    "    enable_model_summary=True,\n",
    "    callbacks=[early_stopping, checkpoint_callback],\n",
    "    max_epochs=70,\n",
    "    enable_progress_bar=True,\n",
    ")\n",
    "\n"
   ]
  },
  {
   "cell_type": "code",
   "execution_count": 13,
   "metadata": {},
   "outputs": [
    {
     "name": "stderr",
     "output_type": "stream",
     "text": [
      "e:\\My Projects\\solana-forecasting-using-lstm\\env\\lib\\site-packages\\pytorch_lightning\\callbacks\\model_checkpoint.py:652: Checkpoint directory E:\\My Projects\\solana-forecasting-using-lstm\\checkpoints exists and is not empty.\n",
      "\n",
      "  | Name  | Type            | Params\n",
      "------------------------------------------\n",
      "0 | model | SolanaLSTMModel | 53.3 K\n",
      "1 | loss  | MSELoss         | 0     \n",
      "------------------------------------------\n",
      "53.3 K    Trainable params\n",
      "0         Non-trainable params\n",
      "53.3 K    Total params\n",
      "0.213     Total estimated model params size (MB)\n"
     ]
    },
    {
     "name": "stdout",
     "output_type": "stream",
     "text": [
      "Sanity Checking DataLoader 0:   0%|          | 0/2 [00:00<?, ?it/s]"
     ]
    },
    {
     "name": "stderr",
     "output_type": "stream",
     "text": [
      "e:\\My Projects\\solana-forecasting-using-lstm\\env\\lib\\site-packages\\pytorch_lightning\\trainer\\connectors\\data_connector.py:441: The 'val_dataloader' does not have many workers which may be a bottleneck. Consider increasing the value of the `num_workers` argument` to `num_workers=15` in the `DataLoader` to improve performance.\n"
     ]
    },
    {
     "name": "stdout",
     "output_type": "stream",
     "text": [
      "                                                                           "
     ]
    },
    {
     "name": "stderr",
     "output_type": "stream",
     "text": [
      "e:\\My Projects\\solana-forecasting-using-lstm\\env\\lib\\site-packages\\pytorch_lightning\\trainer\\connectors\\data_connector.py:441: The 'train_dataloader' does not have many workers which may be a bottleneck. Consider increasing the value of the `num_workers` argument` to `num_workers=15` in the `DataLoader` to improve performance.\n"
     ]
    },
    {
     "name": "stdout",
     "output_type": "stream",
     "text": [
      "Epoch 0: 100%|██████████| 765/765 [00:43<00:00, 17.52it/s, v_num=15, train_loss=0.000151, val_loss=0.106]"
     ]
    },
    {
     "name": "stderr",
     "output_type": "stream",
     "text": [
      "Epoch 0, global step 765: 'val_loss' reached 0.10583 (best 0.10583), saving model to 'E:\\\\My Projects\\\\solana-forecasting-using-lstm\\\\checkpoints\\\\solana-lstm-epoch=00-val_loss=0.11-v_num=00.ckpt' as top 1\n"
     ]
    },
    {
     "name": "stdout",
     "output_type": "stream",
     "text": [
      "Epoch 1: 100%|██████████| 765/765 [00:42<00:00, 17.92it/s, v_num=15, train_loss=7.94e-5, val_loss=0.107] "
     ]
    },
    {
     "name": "stderr",
     "output_type": "stream",
     "text": [
      "Epoch 1, global step 1530: 'val_loss' was not in top 1\n"
     ]
    },
    {
     "name": "stdout",
     "output_type": "stream",
     "text": [
      "Epoch 2: 100%|██████████| 765/765 [00:42<00:00, 18.11it/s, v_num=15, train_loss=7.17e-5, val_loss=0.103] "
     ]
    },
    {
     "name": "stderr",
     "output_type": "stream",
     "text": [
      "Epoch 2, global step 2295: 'val_loss' reached 0.10314 (best 0.10314), saving model to 'E:\\\\My Projects\\\\solana-forecasting-using-lstm\\\\checkpoints\\\\solana-lstm-epoch=02-val_loss=0.10-v_num=00.ckpt' as top 1\n"
     ]
    },
    {
     "name": "stdout",
     "output_type": "stream",
     "text": [
      "Epoch 3: 100%|██████████| 765/765 [00:45<00:00, 16.83it/s, v_num=15, train_loss=1.61e-5, val_loss=0.100] "
     ]
    },
    {
     "name": "stderr",
     "output_type": "stream",
     "text": [
      "Epoch 3, global step 3060: 'val_loss' reached 0.10036 (best 0.10036), saving model to 'E:\\\\My Projects\\\\solana-forecasting-using-lstm\\\\checkpoints\\\\solana-lstm-epoch=03-val_loss=0.10-v_num=00.ckpt' as top 1\n"
     ]
    },
    {
     "name": "stdout",
     "output_type": "stream",
     "text": [
      "Epoch 4: 100%|██████████| 765/765 [00:42<00:00, 17.80it/s, v_num=15, train_loss=4.61e-5, val_loss=0.0994]"
     ]
    },
    {
     "name": "stderr",
     "output_type": "stream",
     "text": [
      "Epoch 4, global step 3825: 'val_loss' reached 0.09942 (best 0.09942), saving model to 'E:\\\\My Projects\\\\solana-forecasting-using-lstm\\\\checkpoints\\\\solana-lstm-epoch=04-val_loss=0.10-v_num=00.ckpt' as top 1\n"
     ]
    },
    {
     "name": "stdout",
     "output_type": "stream",
     "text": [
      "Epoch 5: 100%|██████████| 765/765 [00:42<00:00, 17.92it/s, v_num=15, train_loss=2.87e-5, val_loss=0.107]  "
     ]
    },
    {
     "name": "stderr",
     "output_type": "stream",
     "text": [
      "Epoch 5, global step 4590: 'val_loss' was not in top 1\n"
     ]
    },
    {
     "name": "stdout",
     "output_type": "stream",
     "text": [
      "Epoch 6: 100%|██████████| 765/765 [00:42<00:00, 17.88it/s, v_num=15, train_loss=1.57e-5, val_loss=0.111] "
     ]
    },
    {
     "name": "stderr",
     "output_type": "stream",
     "text": [
      "Epoch 6, global step 5355: 'val_loss' was not in top 1\n"
     ]
    },
    {
     "name": "stdout",
     "output_type": "stream",
     "text": [
      "Epoch 7: 100%|██████████| 765/765 [00:42<00:00, 17.96it/s, v_num=15, train_loss=6.82e-6, val_loss=0.113] "
     ]
    },
    {
     "name": "stderr",
     "output_type": "stream",
     "text": [
      "Epoch 7, global step 6120: 'val_loss' was not in top 1\n"
     ]
    },
    {
     "name": "stdout",
     "output_type": "stream",
     "text": [
      "Epoch 8: 100%|██████████| 765/765 [00:43<00:00, 17.77it/s, v_num=15, train_loss=1.92e-5, val_loss=0.114] "
     ]
    },
    {
     "name": "stderr",
     "output_type": "stream",
     "text": [
      "Epoch 8, global step 6885: 'val_loss' was not in top 1\n"
     ]
    },
    {
     "name": "stdout",
     "output_type": "stream",
     "text": [
      "Epoch 9: 100%|██████████| 765/765 [00:42<00:00, 17.83it/s, v_num=15, train_loss=1.59e-5, val_loss=0.111] "
     ]
    },
    {
     "name": "stderr",
     "output_type": "stream",
     "text": [
      "Epoch 9, global step 7650: 'val_loss' was not in top 1\n"
     ]
    },
    {
     "name": "stdout",
     "output_type": "stream",
     "text": [
      "Epoch 10: 100%|██████████| 765/765 [00:42<00:00, 17.89it/s, v_num=15, train_loss=2.69e-5, val_loss=0.109] "
     ]
    },
    {
     "name": "stderr",
     "output_type": "stream",
     "text": [
      "Epoch 10, global step 8415: 'val_loss' was not in top 1\n"
     ]
    },
    {
     "name": "stdout",
     "output_type": "stream",
     "text": [
      "Epoch 11: 100%|██████████| 765/765 [00:42<00:00, 17.93it/s, v_num=15, train_loss=1.75e-5, val_loss=0.107] "
     ]
    },
    {
     "name": "stderr",
     "output_type": "stream",
     "text": [
      "Epoch 11, global step 9180: 'val_loss' was not in top 1\n"
     ]
    },
    {
     "name": "stdout",
     "output_type": "stream",
     "text": [
      "Epoch 12: 100%|██████████| 765/765 [00:42<00:00, 17.98it/s, v_num=15, train_loss=8.48e-6, val_loss=0.103] "
     ]
    },
    {
     "name": "stderr",
     "output_type": "stream",
     "text": [
      "Epoch 12, global step 9945: 'val_loss' was not in top 1\n"
     ]
    },
    {
     "name": "stdout",
     "output_type": "stream",
     "text": [
      "Epoch 13: 100%|██████████| 765/765 [00:42<00:00, 17.85it/s, v_num=15, train_loss=1.6e-5, val_loss=0.0997] "
     ]
    },
    {
     "name": "stderr",
     "output_type": "stream",
     "text": [
      "Epoch 13, global step 10710: 'val_loss' was not in top 1\n"
     ]
    },
    {
     "name": "stdout",
     "output_type": "stream",
     "text": [
      "Epoch 14: 100%|██████████| 765/765 [00:42<00:00, 17.96it/s, v_num=15, train_loss=7.15e-6, val_loss=0.0855] "
     ]
    },
    {
     "name": "stderr",
     "output_type": "stream",
     "text": [
      "Epoch 14, global step 11475: 'val_loss' reached 0.08548 (best 0.08548), saving model to 'E:\\\\My Projects\\\\solana-forecasting-using-lstm\\\\checkpoints\\\\solana-lstm-epoch=14-val_loss=0.09-v_num=00.ckpt' as top 1\n"
     ]
    },
    {
     "name": "stdout",
     "output_type": "stream",
     "text": [
      "Epoch 15: 100%|██████████| 765/765 [00:42<00:00, 17.96it/s, v_num=15, train_loss=3.58e-6, val_loss=0.0753] "
     ]
    },
    {
     "name": "stderr",
     "output_type": "stream",
     "text": [
      "Epoch 15, global step 12240: 'val_loss' reached 0.07530 (best 0.07530), saving model to 'E:\\\\My Projects\\\\solana-forecasting-using-lstm\\\\checkpoints\\\\solana-lstm-epoch=15-val_loss=0.08-v_num=00.ckpt' as top 1\n"
     ]
    },
    {
     "name": "stdout",
     "output_type": "stream",
     "text": [
      "Epoch 16: 100%|██████████| 765/765 [00:42<00:00, 17.97it/s, v_num=15, train_loss=1.24e-5, val_loss=0.0882] "
     ]
    },
    {
     "name": "stderr",
     "output_type": "stream",
     "text": [
      "Epoch 16, global step 13005: 'val_loss' was not in top 1\n"
     ]
    },
    {
     "name": "stdout",
     "output_type": "stream",
     "text": [
      "Epoch 17: 100%|██████████| 765/765 [00:42<00:00, 17.97it/s, v_num=15, train_loss=8.79e-6, val_loss=0.0822] "
     ]
    },
    {
     "name": "stderr",
     "output_type": "stream",
     "text": [
      "Epoch 17, global step 13770: 'val_loss' was not in top 1\n"
     ]
    },
    {
     "name": "stdout",
     "output_type": "stream",
     "text": [
      "Epoch 18: 100%|██████████| 765/765 [00:42<00:00, 17.94it/s, v_num=15, train_loss=5.78e-5, val_loss=0.0694] "
     ]
    },
    {
     "name": "stderr",
     "output_type": "stream",
     "text": [
      "Epoch 18, global step 14535: 'val_loss' reached 0.06937 (best 0.06937), saving model to 'E:\\\\My Projects\\\\solana-forecasting-using-lstm\\\\checkpoints\\\\solana-lstm-epoch=18-val_loss=0.07-v_num=00.ckpt' as top 1\n"
     ]
    },
    {
     "name": "stdout",
     "output_type": "stream",
     "text": [
      "Epoch 19: 100%|██████████| 765/765 [00:42<00:00, 17.83it/s, v_num=15, train_loss=8.11e-5, val_loss=0.0593] "
     ]
    },
    {
     "name": "stderr",
     "output_type": "stream",
     "text": [
      "Epoch 19, global step 15300: 'val_loss' reached 0.05930 (best 0.05930), saving model to 'E:\\\\My Projects\\\\solana-forecasting-using-lstm\\\\checkpoints\\\\solana-lstm-epoch=19-val_loss=0.06-v_num=00.ckpt' as top 1\n"
     ]
    },
    {
     "name": "stdout",
     "output_type": "stream",
     "text": [
      "Epoch 20: 100%|██████████| 765/765 [00:42<00:00, 17.97it/s, v_num=15, train_loss=1.73e-5, val_loss=0.0593] "
     ]
    },
    {
     "name": "stderr",
     "output_type": "stream",
     "text": [
      "Epoch 20, global step 16065: 'val_loss' reached 0.05928 (best 0.05928), saving model to 'E:\\\\My Projects\\\\solana-forecasting-using-lstm\\\\checkpoints\\\\solana-lstm-epoch=20-val_loss=0.06-v_num=00.ckpt' as top 1\n"
     ]
    },
    {
     "name": "stdout",
     "output_type": "stream",
     "text": [
      "Epoch 21: 100%|██████████| 765/765 [00:42<00:00, 17.95it/s, v_num=15, train_loss=1.08e-5, val_loss=0.0608] "
     ]
    },
    {
     "name": "stderr",
     "output_type": "stream",
     "text": [
      "Epoch 21, global step 16830: 'val_loss' was not in top 1\n"
     ]
    },
    {
     "name": "stdout",
     "output_type": "stream",
     "text": [
      "Epoch 22: 100%|██████████| 765/765 [00:42<00:00, 17.91it/s, v_num=15, train_loss=2.05e-5, val_loss=0.0568] "
     ]
    },
    {
     "name": "stderr",
     "output_type": "stream",
     "text": [
      "Epoch 22, global step 17595: 'val_loss' reached 0.05683 (best 0.05683), saving model to 'E:\\\\My Projects\\\\solana-forecasting-using-lstm\\\\checkpoints\\\\solana-lstm-epoch=22-val_loss=0.06-v_num=00.ckpt' as top 1\n"
     ]
    },
    {
     "name": "stdout",
     "output_type": "stream",
     "text": [
      "Epoch 23: 100%|██████████| 765/765 [00:42<00:00, 17.85it/s, v_num=15, train_loss=1.77e-5, val_loss=0.0494] "
     ]
    },
    {
     "name": "stderr",
     "output_type": "stream",
     "text": [
      "Epoch 23, global step 18360: 'val_loss' reached 0.04937 (best 0.04937), saving model to 'E:\\\\My Projects\\\\solana-forecasting-using-lstm\\\\checkpoints\\\\solana-lstm-epoch=23-val_loss=0.05-v_num=00.ckpt' as top 1\n"
     ]
    },
    {
     "name": "stdout",
     "output_type": "stream",
     "text": [
      "Epoch 24: 100%|██████████| 765/765 [00:42<00:00, 17.93it/s, v_num=15, train_loss=1.98e-5, val_loss=0.0408] "
     ]
    },
    {
     "name": "stderr",
     "output_type": "stream",
     "text": [
      "Epoch 24, global step 19125: 'val_loss' reached 0.04083 (best 0.04083), saving model to 'E:\\\\My Projects\\\\solana-forecasting-using-lstm\\\\checkpoints\\\\solana-lstm-epoch=24-val_loss=0.04-v_num=00.ckpt' as top 1\n"
     ]
    },
    {
     "name": "stdout",
     "output_type": "stream",
     "text": [
      "Epoch 25: 100%|██████████| 765/765 [00:42<00:00, 17.83it/s, v_num=15, train_loss=0.000106, val_loss=0.0332]"
     ]
    },
    {
     "name": "stderr",
     "output_type": "stream",
     "text": [
      "Epoch 25, global step 19890: 'val_loss' reached 0.03316 (best 0.03316), saving model to 'E:\\\\My Projects\\\\solana-forecasting-using-lstm\\\\checkpoints\\\\solana-lstm-epoch=25-val_loss=0.03-v_num=00.ckpt' as top 1\n"
     ]
    },
    {
     "name": "stdout",
     "output_type": "stream",
     "text": [
      "Epoch 26: 100%|██████████| 765/765 [00:42<00:00, 17.95it/s, v_num=15, train_loss=4.45e-5, val_loss=0.0417] "
     ]
    },
    {
     "name": "stderr",
     "output_type": "stream",
     "text": [
      "Epoch 26, global step 20655: 'val_loss' was not in top 1\n"
     ]
    },
    {
     "name": "stdout",
     "output_type": "stream",
     "text": [
      "Epoch 27: 100%|██████████| 765/765 [00:42<00:00, 17.87it/s, v_num=15, train_loss=0.000123, val_loss=0.0431]"
     ]
    },
    {
     "name": "stderr",
     "output_type": "stream",
     "text": [
      "Epoch 27, global step 21420: 'val_loss' was not in top 1\n"
     ]
    },
    {
     "name": "stdout",
     "output_type": "stream",
     "text": [
      "Epoch 28: 100%|██████████| 765/765 [00:43<00:00, 17.74it/s, v_num=15, train_loss=4.28e-5, val_loss=0.0438] "
     ]
    },
    {
     "name": "stderr",
     "output_type": "stream",
     "text": [
      "Epoch 28, global step 22185: 'val_loss' was not in top 1\n"
     ]
    },
    {
     "name": "stdout",
     "output_type": "stream",
     "text": [
      "Epoch 29: 100%|██████████| 765/765 [00:42<00:00, 17.92it/s, v_num=15, train_loss=6.4e-5, val_loss=0.0428]  "
     ]
    },
    {
     "name": "stderr",
     "output_type": "stream",
     "text": [
      "Epoch 29, global step 22950: 'val_loss' was not in top 1\n"
     ]
    },
    {
     "name": "stdout",
     "output_type": "stream",
     "text": [
      "Epoch 30: 100%|██████████| 765/765 [00:43<00:00, 17.78it/s, v_num=15, train_loss=6.63e-5, val_loss=0.0531] "
     ]
    },
    {
     "name": "stderr",
     "output_type": "stream",
     "text": [
      "Epoch 30, global step 23715: 'val_loss' was not in top 1\n"
     ]
    },
    {
     "name": "stdout",
     "output_type": "stream",
     "text": [
      "Epoch 31: 100%|██████████| 765/765 [00:42<00:00, 17.95it/s, v_num=15, train_loss=4.66e-5, val_loss=0.0554] "
     ]
    },
    {
     "name": "stderr",
     "output_type": "stream",
     "text": [
      "Epoch 31, global step 24480: 'val_loss' was not in top 1\n"
     ]
    },
    {
     "name": "stdout",
     "output_type": "stream",
     "text": [
      "Epoch 32: 100%|██████████| 765/765 [00:42<00:00, 17.80it/s, v_num=15, train_loss=4.19e-5, val_loss=0.0658] "
     ]
    },
    {
     "name": "stderr",
     "output_type": "stream",
     "text": [
      "Epoch 32, global step 25245: 'val_loss' was not in top 1\n"
     ]
    },
    {
     "name": "stdout",
     "output_type": "stream",
     "text": [
      "Epoch 33: 100%|██████████| 765/765 [00:42<00:00, 17.92it/s, v_num=15, train_loss=0.000187, val_loss=0.0683]"
     ]
    },
    {
     "name": "stderr",
     "output_type": "stream",
     "text": [
      "Epoch 33, global step 26010: 'val_loss' was not in top 1\n"
     ]
    },
    {
     "name": "stdout",
     "output_type": "stream",
     "text": [
      "Epoch 34: 100%|██████████| 765/765 [00:42<00:00, 17.91it/s, v_num=15, train_loss=0.000111, val_loss=0.0807]"
     ]
    },
    {
     "name": "stderr",
     "output_type": "stream",
     "text": [
      "Epoch 34, global step 26775: 'val_loss' was not in top 1\n"
     ]
    },
    {
     "name": "stdout",
     "output_type": "stream",
     "text": [
      "Epoch 35: 100%|██████████| 765/765 [00:43<00:00, 17.63it/s, v_num=15, train_loss=0.000502, val_loss=0.0876]"
     ]
    },
    {
     "name": "stderr",
     "output_type": "stream",
     "text": [
      "Epoch 35, global step 27540: 'val_loss' was not in top 1\n"
     ]
    },
    {
     "name": "stdout",
     "output_type": "stream",
     "text": [
      "Epoch 35: 100%|██████████| 765/765 [00:43<00:00, 17.63it/s, v_num=15, train_loss=0.000502, val_loss=0.0876]\n"
     ]
    }
   ],
   "source": [
    "trainer.fit(model, dm)"
   ]
  },
  {
   "cell_type": "markdown",
   "metadata": {},
   "source": [
    "## Using the TRained Model"
   ]
  },
  {
   "cell_type": "code",
   "execution_count": 11,
   "metadata": {},
   "outputs": [],
   "source": [
    "trained_model = SolanaPricePredictor.load_from_checkpoint(\"checkpoints/solana-lstm-epoch=25-val_loss=0.03-v_num=00.ckpt\", n_features=12, hidden_size=64, num_layers=2)"
   ]
  },
  {
   "cell_type": "code",
   "execution_count": 12,
   "metadata": {},
   "outputs": [],
   "source": [
    "trained_model.freeze()"
   ]
  },
  {
   "cell_type": "code",
   "execution_count": 13,
   "metadata": {},
   "outputs": [],
   "source": [
    "tests_dataset = SolanaDataset(test_sequences)"
   ]
  },
  {
   "cell_type": "code",
   "execution_count": 14,
   "metadata": {},
   "outputs": [],
   "source": [
    "from tqdm import tqdm\n",
    "def test_model(trained_model, tests_dataset):\n",
    "    predictions = []\n",
    "    actuals = []\n",
    "\n",
    "    for item in tqdm(tests_dataset):\n",
    "        sequences = item['sequence'].unsqueeze(0)\n",
    "        label = item['label']\n",
    "        _, output = trained_model(sequences)\n",
    "        predictions.append(output.item())\n",
    "        actuals.append(label.item())\n",
    "    \n",
    "\n",
    "    return predictions, actuals"
   ]
  },
  {
   "cell_type": "code",
   "execution_count": 15,
   "metadata": {},
   "outputs": [
    {
     "name": "stderr",
     "output_type": "stream",
     "text": [
      "100%|██████████| 5923/5923 [00:07<00:00, 747.29it/s]\n"
     ]
    }
   ],
   "source": [
    "pred, actual = test_model(trained_model, tests_dataset)"
   ]
  },
  {
   "cell_type": "code",
   "execution_count": 17,
   "metadata": {},
   "outputs": [],
   "source": [
    "with open('savedpoints/descaler.pkl', 'rb') as f:\n",
    "    descaler = pickle.load(f)"
   ]
  },
  {
   "cell_type": "code",
   "execution_count": 18,
   "metadata": {},
   "outputs": [],
   "source": [
    "def descale(x):\n",
    "    descaler_local = descaler\n",
    "    x_val = np.array(x)[:, np.newaxis]\n",
    "    return descaler_local.inverse_transform(x_val).flatten()"
   ]
  },
  {
   "cell_type": "code",
   "execution_count": 19,
   "metadata": {},
   "outputs": [],
   "source": [
    "predictions_desc = descale(pred)"
   ]
  },
  {
   "cell_type": "code",
   "execution_count": 20,
   "metadata": {},
   "outputs": [],
   "source": [
    "labels_desc = descale(actual)"
   ]
  },
  {
   "cell_type": "code",
   "execution_count": 21,
   "metadata": {},
   "outputs": [
    {
     "data": {
      "text/plain": [
       "array([18.77080844, 18.77198146, 18.7792113 , 18.78273039, 18.7886032 ])"
      ]
     },
     "execution_count": 21,
     "metadata": {},
     "output_type": "execute_result"
    }
   ],
   "source": [
    "predictions_desc[:5]"
   ]
  },
  {
   "cell_type": "code",
   "execution_count": 22,
   "metadata": {},
   "outputs": [
    {
     "data": {
      "text/plain": [
       "array([15.590001  , 15.590001  , 15.56000062, 15.56000062, 15.590001  ])"
      ]
     },
     "execution_count": 22,
     "metadata": {},
     "output_type": "execute_result"
    }
   ],
   "source": [
    "labels_desc[:5]"
   ]
  },
  {
   "cell_type": "code",
   "execution_count": 26,
   "metadata": {},
   "outputs": [],
   "source": [
    "with open('savedpoints/test_non.pkl', 'rb') as f:\n",
    "    test_non = pickle.load(f)"
   ]
  },
  {
   "cell_type": "code",
   "execution_count": 27,
   "metadata": {},
   "outputs": [],
   "source": [
    "test_data = test_non.iloc[254:]"
   ]
  },
  {
   "cell_type": "code",
   "execution_count": 30,
   "metadata": {},
   "outputs": [
    {
     "data": {
      "text/plain": [
       "<matplotlib.legend.Legend at 0x15e635b92b0>"
      ]
     },
     "execution_count": 30,
     "metadata": {},
     "output_type": "execute_result"
    },
    {
     "data": {
      "image/png": "[encoded data removed]",
      "text/plain": [
       "<Figure size 640x480 with 1 Axes>"
      ]
     },
     "metadata": {},
     "output_type": "display_data"
    }
   ],
   "source": [
    "from matplotlib import dates\n",
    "\n",
    "dates = dates.date2num(test_data.index)\n",
    "\n",
    "plt.plot_date(dates, labels_desc, 'b-', label='Actual Price')\n",
    "plt.plot_date(dates, predictions_desc, 'y-', label='Predicted Price')\n",
    "plt.legend()"
   ]
  }
 ],
 "metadata": {
  "kernelspec": {
   "display_name": "env",
   "language": "python",
   "name": "python3"
  },
  "language_info": {
   "codemirror_mode": {
    "name": "ipython",
    "version": 3
   },
   "file_extension": ".py",
   "mimetype": "text/x-python",
   "name": "python",
   "nbconvert_exporter": "python",
   "pygments_lexer": "ipython3",
   "version": "3.9.2"
  }
 },
 "nbformat": 4,
 "nbformat_minor": 2
}
